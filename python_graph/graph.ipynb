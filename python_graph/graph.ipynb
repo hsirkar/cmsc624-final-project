{
 "cells": [
  {
   "cell_type": "code",
   "execution_count": 8,
   "id": "289df9c8-c5fc-44ea-bd07-b77e4233c266",
   "metadata": {},
   "outputs": [],
   "source": [
    "class Txn:\n",
    "    def __init__(self,  write_set=set(), read_set=set(),should_abort=False):\n",
    "        self.read_set = read_set\n",
    "        self.write_set = write_set\n",
    "        self.should_abort = should_abort"
   ]
  },
  {
   "cell_type": "code",
   "execution_count": 9,
   "id": "bcccf9a8-69c1-4adb-8a3a-31fc3ff239a9",
   "metadata": {},
   "outputs": [],
   "source": [
    "# Sample data\n",
    "# Lock table:\n",
    "# X: [A, E]\n",
    "# Y: [B]\n",
    "# Z: [C, D, E]\n",
    "# our adjacency list should look like this:\n",
    "# A: [E]\n",
    "# B: []\n",
    "# C: [D, E]\n",
    "# D: [E]"
   ]
  },
  {
   "cell_type": "code",
   "execution_count": 11,
   "id": "3d9df4da-4fb3-4415-9500-220f7845f7e4",
   "metadata": {},
   "outputs": [],
   "source": [
    "A = Txn({\"X\"})\n",
    "B = Txn({\"Y\"})\n",
    "C = Txn({\"Z\"})\n",
    "D = Txn({\"Z\"})\n",
    "E = Txn({\"Z\", \"X\"})"
   ]
  },
  {
   "cell_type": "code",
   "execution_count": 12,
   "id": "e23c6659-9935-4f37-b518-67547687d096",
   "metadata": {},
   "outputs": [],
   "source": [
    "txns = [A, B, C, D, E]"
   ]
  },
  {
   "cell_type": "code",
   "execution_count": null,
   "id": "69911b34-edc5-4148-bf88-1e0d2e2bc14e",
   "metadata": {},
   "outputs": [],
   "source": [
    "# 1) build the lock table\n"
   ]
  },
  {
   "cell_type": "code",
   "execution_count": null,
   "id": "e309fd94-a1cc-4a10-bd3c-3fa791ab3949",
   "metadata": {},
   "outputs": [],
   "source": []
  },
  {
   "cell_type": "code",
   "execution_count": null,
   "id": "6d3d5a2d-41d0-4e64-b5b5-c89dc969635a",
   "metadata": {},
   "outputs": [],
   "source": []
  }
 ],
 "metadata": {
  "kernelspec": {
   "display_name": "Python 3 (ipykernel)",
   "language": "python",
   "name": "python3"
  },
  "language_info": {
   "codemirror_mode": {
    "name": "ipython",
    "version": 3
   },
   "file_extension": ".py",
   "mimetype": "text/x-python",
   "name": "python",
   "nbconvert_exporter": "python",
   "pygments_lexer": "ipython3",
   "version": "3.11.6"
  }
 },
 "nbformat": 4,
 "nbformat_minor": 5
}

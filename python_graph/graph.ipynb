{
 "cells": [
  {
   "cell_type": "code",
   "execution_count": 1,
   "id": "289df9c8-c5fc-44ea-bd07-b77e4233c266",
   "metadata": {},
   "outputs": [],
   "source": [
    "class Txn:\n",
    "    def __init__(self, name, write_set=set(), read_set=set(),should_abort=False):\n",
    "        self.name = name\n",
    "        self.read_set = read_set\n",
    "        self.write_set = write_set\n",
    "        self.should_abort = should_abort\n",
    "    def __str__(self):\n",
    "        return self.name\n",
    "    def __repr__(self):\n",
    "        return self.name"
   ]
  },
  {
   "cell_type": "code",
   "execution_count": 2,
   "id": "bcccf9a8-69c1-4adb-8a3a-31fc3ff239a9",
   "metadata": {},
   "outputs": [],
   "source": [
    "# Sample data\n",
    "# Lock table:\n",
    "# X: [A, E]\n",
    "# Y: [B]\n",
    "# Z: [C, D, E]\n",
    "# our adjacency list should look like this:\n",
    "# A: [E]\n",
    "# B: []\n",
    "# C: [D, E]\n",
    "# D: [E]"
   ]
  },
  {
   "cell_type": "code",
   "execution_count": 3,
   "id": "3d9df4da-4fb3-4415-9500-220f7845f7e4",
   "metadata": {},
   "outputs": [],
   "source": [
    "txns = [\n",
    "    Txn(\"A\", {\"X\"}),\n",
    "    Txn(\"B\", {\"Y\"}),\n",
    "    Txn(\"C\", {\"Z\"}),\n",
    "    Txn(\"D\", {\"Z\"}),\n",
    "    Txn(\"E\", {\"Z\", \"X\"}),\n",
    "]"
   ]
  },
  {
   "cell_type": "code",
   "execution_count": 4,
   "id": "69911b34-edc5-4148-bf88-1e0d2e2bc14e",
   "metadata": {},
   "outputs": [
    {
     "data": {
      "text/plain": [
       "defaultdict(collections.deque,\n",
       "            {'X': deque([A, E]), 'Y': deque([B]), 'Z': deque([C, D, E])})"
      ]
     },
     "execution_count": 4,
     "metadata": {},
     "output_type": "execute_result"
    }
   ],
   "source": [
    "from collections import defaultdict, deque\n",
    "\n",
    "# 1) build the lock table\n",
    "lock_table = defaultdict(deque)  # maps record -> queue of txns\n",
    "\n",
    "for txn in txns:\n",
    "    for key in txn.write_set:\n",
    "        lock_table[key].append(txn)\n",
    "\n",
    "lock_table"
   ]
  },
  {
   "cell_type": "code",
   "execution_count": 5,
   "id": "e309fd94-a1cc-4a10-bd3c-3fa791ab3949",
   "metadata": {},
   "outputs": [
    {
     "name": "stdout",
     "output_type": "stream",
     "text": [
      "{A: [E], B: [], C: [D], D: [E], E: []}\n"
     ]
    }
   ],
   "source": [
    "# 2) build the dependency graph\n",
    "\n",
    "adj = { txn: [] for txn in txns }\n",
    "\n",
    "for key, _txns in lock_table.items():\n",
    "    if len(_txns) <= 1:\n",
    "        continue\n",
    "    for i in range(1, len(_txns)):\n",
    "        prev, cur = _txns[i - 1], _txns[i]\n",
    "        adj[prev].append(cur)\n",
    "\n",
    "print(adj)"
   ]
  },
  {
   "cell_type": "code",
   "execution_count": 6,
   "id": "58d09881-25f4-45ed-89ed-58a226160aa1",
   "metadata": {},
   "outputs": [
    {
     "data": {
      "text/plain": [
       "[C, D, B, A, E]"
      ]
     },
     "execution_count": 6,
     "metadata": {},
     "output_type": "execute_result"
    }
   ],
   "source": [
    "# Regular topological sort (course schedule II)\n",
    "\n",
    "res = []\n",
    "visit, cycle = set(), set()\n",
    "def dfs(node):\n",
    "    if node in visit:\n",
    "        return True\n",
    "    if node in cycle:\n",
    "        return False\n",
    "\n",
    "    cycle.add(node)\n",
    "\n",
    "    for nei in adj[node]:\n",
    "        if not dfs(nei):\n",
    "            return False\n",
    "\n",
    "    res.append(node)\n",
    "    cycle.remove(node)\n",
    "    visit.add(node)\n",
    "    return True\n",
    "\n",
    "for txn in txns:\n",
    "    if not dfs(txn):\n",
    "        print(\"error\")\n",
    "res[::-1]"
   ]
  },
  {
   "cell_type": "code",
   "execution_count": 7,
   "id": "3ecea98a-795b-4a91-9d06-4a435cc3deac",
   "metadata": {},
   "outputs": [
    {
     "data": {
      "text/plain": [
       "{A: 0, B: 0, C: 0, D: 1, E: 2}"
      ]
     },
     "execution_count": 7,
     "metadata": {},
     "output_type": "execute_result"
    }
   ],
   "source": [
    "# Kahn's algorithm\n",
    "\n",
    "indegrees = {v: 0 for v in adj}\n",
    "\n",
    "# O(V + E)\n",
    "for txn in adj:\n",
    "    for nei in adj[txn]:\n",
    "        indegrees[nei] += 1\n",
    "\n",
    "indegrees"
   ]
  },
  {
   "cell_type": "code",
   "execution_count": 8,
   "id": "d8a169b0-5d1f-4666-bb5d-9d37aac0640d",
   "metadata": {},
   "outputs": [
    {
     "data": {
      "text/plain": [
       "deque([A, B, C])"
      ]
     },
     "execution_count": 8,
     "metadata": {},
     "output_type": "execute_result"
    }
   ],
   "source": [
    "q = deque([])\n",
    "for txn in indegrees:\n",
    "    if indegrees[txn] == 0:\n",
    "        q.append(txn)\n",
    "q"
   ]
  },
  {
   "cell_type": "code",
   "execution_count": 9,
   "id": "0fc1fd46-77e5-49c4-a1ec-c383d6f127d2",
   "metadata": {},
   "outputs": [
    {
     "data": {
      "text/plain": [
       "deque([B, C])"
      ]
     },
     "execution_count": 9,
     "metadata": {},
     "output_type": "execute_result"
    }
   ],
   "source": [
    "# say we complete A\n",
    "txn = q.popleft()\n",
    "for nei in adj[txn]:\n",
    "    indegrees[nei] -= 1\n",
    "    if indegrees[nei] == 0:\n",
    "        q.append(nei)\n",
    "\n",
    "q"
   ]
  },
  {
   "cell_type": "code",
   "execution_count": 10,
   "id": "a2c0d637-07d9-49ba-b623-059aef505269",
   "metadata": {},
   "outputs": [
    {
     "data": {
      "text/plain": [
       "deque([C])"
      ]
     },
     "execution_count": 10,
     "metadata": {},
     "output_type": "execute_result"
    }
   ],
   "source": [
    "# say we complete B\n",
    "txn = q.popleft()\n",
    "for nei in adj[txn]:\n",
    "    indegrees[nei] -= 1\n",
    "    if indegrees[nei] == 0:\n",
    "        q.append(nei)\n",
    "\n",
    "q"
   ]
  },
  {
   "cell_type": "code",
   "execution_count": 11,
   "id": "dda71360-faec-47c1-8c34-42ba34128633",
   "metadata": {},
   "outputs": [
    {
     "data": {
      "text/plain": [
       "deque([D])"
      ]
     },
     "execution_count": 11,
     "metadata": {},
     "output_type": "execute_result"
    }
   ],
   "source": [
    "# say we complete C\n",
    "txn = q.popleft()\n",
    "for nei in adj[txn]:\n",
    "    indegrees[nei] -= 1\n",
    "    if indegrees[nei] == 0:\n",
    "        q.append(nei)\n",
    "\n",
    "q"
   ]
  },
  {
   "cell_type": "code",
   "execution_count": 12,
   "id": "2a211bf3-264c-4767-a47c-a131f8f4448d",
   "metadata": {},
   "outputs": [
    {
     "data": {
      "text/plain": [
       "deque([E])"
      ]
     },
     "execution_count": 12,
     "metadata": {},
     "output_type": "execute_result"
    }
   ],
   "source": [
    "# say we complete D\n",
    "txn = q.popleft()\n",
    "for nei in adj[txn]:\n",
    "    indegrees[nei] -= 1\n",
    "    if indegrees[nei] == 0:\n",
    "        q.append(nei)\n",
    "\n",
    "q"
   ]
  },
  {
   "cell_type": "code",
   "execution_count": 13,
   "id": "d16bc026-e566-45bb-ad25-df09bc612c1c",
   "metadata": {},
   "outputs": [
    {
     "data": {
      "text/plain": [
       "deque([])"
      ]
     },
     "execution_count": 13,
     "metadata": {},
     "output_type": "execute_result"
    }
   ],
   "source": [
    "# say we complete E\n",
    "txn = q.popleft()\n",
    "for nei in adj[txn]:\n",
    "    indegrees[nei] -= 1\n",
    "    if indegrees[nei] == 0:\n",
    "        q.append(nei)\n",
    "\n",
    "q"
   ]
  }
 ],
 "metadata": {
  "kernelspec": {
   "display_name": "Python 3 (ipykernel)",
   "language": "python",
   "name": "python3"
  },
  "language_info": {
   "codemirror_mode": {
    "name": "ipython",
    "version": 3
   },
   "file_extension": ".py",
   "mimetype": "text/x-python",
   "name": "python",
   "nbconvert_exporter": "python",
   "pygments_lexer": "ipython3",
   "version": "3.11.6"
  }
 },
 "nbformat": 4,
 "nbformat_minor": 5
}

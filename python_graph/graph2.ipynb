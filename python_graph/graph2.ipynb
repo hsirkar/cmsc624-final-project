{
 "cells": [
  {
   "cell_type": "code",
   "execution_count": 21,
   "id": "289df9c8-c5fc-44ea-bd07-b77e4233c266",
   "metadata": {},
   "outputs": [],
   "source": [
    "class Txn:\n",
    "    def __init__(self, name, read_set=set(), write_set=set(), should_abort=False):\n",
    "        self.name = name\n",
    "        self.read_set = read_set\n",
    "        self.write_set = write_set\n",
    "        self.should_abort = should_abort\n",
    "    def __str__(self):\n",
    "        return self.name\n",
    "    def __repr__(self):\n",
    "        return self.name"
   ]
  },
  {
   "cell_type": "code",
   "execution_count": 22,
   "id": "bcccf9a8-69c1-4adb-8a3a-31fc3ff239a9",
   "metadata": {},
   "outputs": [],
   "source": [
    "# Sample data\n",
    "# Lock table:\n",
    "# X: [A, E]\n",
    "# Y: [B]\n",
    "# Z: [C, D, E]\n",
    "# our adjacency list should look like this:\n",
    "# A: [E]\n",
    "# B: []\n",
    "# C: [D, E]\n",
    "# D: [E]"
   ]
  },
  {
   "cell_type": "code",
   "execution_count": 26,
   "id": "3d9df4da-4fb3-4415-9500-220f7845f7e4",
   "metadata": {},
   "outputs": [],
   "source": [
    "txns = [\n",
    "    Txn(\"A\", {1, 2}, {3, 4}),\n",
    "    Txn(\"B\", {3}, {5}),\n",
    "    Txn(\"C\", {4,5}, {1,2}),\n",
    "    Txn(\"D\", {1}, {2,5}),\n",
    "    Txn(\"E\", {4,5}, {1,3}),\n",
    "]"
   ]
  },
  {
   "cell_type": "code",
   "execution_count": 33,
   "id": "69911b34-edc5-4148-bf88-1e0d2e2bc14e",
   "metadata": {},
   "outputs": [
    {
     "name": "stdout",
     "output_type": "stream",
     "text": [
      "{A: {B, C}, B: {C, E}, C: {D}, D: {E}, E: set()}\n",
      "{A: 0, B: 1, C: 2, D: 1, E: 2}\n"
     ]
    }
   ],
   "source": [
    "from collections import defaultdict, deque\n",
    "\n",
    "# 1) build the lock table\n",
    "status = dict()\n",
    "lock_table = defaultdict(set)  # maps record -> set (should be single element for E, multiple for S)\n",
    "\n",
    "adj = { txn: set() for txn in txns }\n",
    "indegrees = {v: 0 for v in adj}\n",
    "\n",
    "for txn in txns:\n",
    "    for key in txn.read_set:\n",
    "        if key in status:\n",
    "            if status[key] == \"S\":   # shared, no conflict\n",
    "                lock_table[key].add(txn)\n",
    "            else:                    # conflict\n",
    "                for conflicting_txn in lock_table[key]:\n",
    "                    if txn not in adj[conflicting_txn]:\n",
    "                        adj[conflicting_txn].add(txn)\n",
    "                        indegrees[txn] += 1\n",
    "                lock_table[key] = set([txn])\n",
    "                status[key] = \"S\"\n",
    "        else:\n",
    "            lock_table[key] = set([txn])\n",
    "            status[key] = \"S\"\n",
    "        \n",
    "    for key in txn.write_set:\n",
    "        for conflicting_txn in lock_table[key]:\n",
    "            if txn not in adj[conflicting_txn]:\n",
    "                adj[conflicting_txn].add(txn)\n",
    "                indegrees[txn] += 1\n",
    "        lock_table[key] = set([txn])\n",
    "        status[key] = \"E\"\n",
    "\n",
    "# lock_table\n",
    "print(adj)\n",
    "print(indegrees)"
   ]
  },
  {
   "cell_type": "code",
   "execution_count": 31,
   "id": "3ecea98a-795b-4a91-9d06-4a435cc3deac",
   "metadata": {},
   "outputs": [
    {
     "data": {
      "text/plain": [
       "{A: 0, B: 1, C: 2, D: 1, E: 2}"
      ]
     },
     "execution_count": 31,
     "metadata": {},
     "output_type": "execute_result"
    }
   ],
   "source": [
    "# Kahn's algorithm\n",
    "\n",
    "indegrees = {v: 0 for v in adj}\n",
    "\n",
    "# O(V + E)\n",
    "for txn in adj:\n",
    "    for nei in adj[txn]:\n",
    "        indegrees[nei] += 1\n",
    "\n",
    "indegrees"
   ]
  },
  {
   "cell_type": "code",
   "execution_count": 15,
   "id": "d8a169b0-5d1f-4666-bb5d-9d37aac0640d",
   "metadata": {},
   "outputs": [
    {
     "data": {
      "text/plain": [
       "deque([A])"
      ]
     },
     "execution_count": 15,
     "metadata": {},
     "output_type": "execute_result"
    }
   ],
   "source": [
    "q = deque([])\n",
    "for txn in indegrees:\n",
    "    if indegrees[txn] == 0:\n",
    "        q.append(txn)\n",
    "q"
   ]
  },
  {
   "cell_type": "code",
   "execution_count": 16,
   "id": "0fc1fd46-77e5-49c4-a1ec-c383d6f127d2",
   "metadata": {},
   "outputs": [
    {
     "data": {
      "text/plain": [
       "deque([B])"
      ]
     },
     "execution_count": 16,
     "metadata": {},
     "output_type": "execute_result"
    }
   ],
   "source": [
    "# say we complete A\n",
    "txn = q.popleft()\n",
    "for nei in adj[txn]:\n",
    "    indegrees[nei] -= 1\n",
    "    if indegrees[nei] == 0:\n",
    "        q.append(nei)\n",
    "\n",
    "q"
   ]
  },
  {
   "cell_type": "code",
   "execution_count": 17,
   "id": "a2c0d637-07d9-49ba-b623-059aef505269",
   "metadata": {},
   "outputs": [
    {
     "data": {
      "text/plain": [
       "deque([C])"
      ]
     },
     "execution_count": 17,
     "metadata": {},
     "output_type": "execute_result"
    }
   ],
   "source": [
    "# say we complete B\n",
    "txn = q.popleft()\n",
    "for nei in adj[txn]:\n",
    "    indegrees[nei] -= 1\n",
    "    if indegrees[nei] == 0:\n",
    "        q.append(nei)\n",
    "\n",
    "q"
   ]
  },
  {
   "cell_type": "code",
   "execution_count": 18,
   "id": "dda71360-faec-47c1-8c34-42ba34128633",
   "metadata": {},
   "outputs": [
    {
     "data": {
      "text/plain": [
       "deque([D])"
      ]
     },
     "execution_count": 18,
     "metadata": {},
     "output_type": "execute_result"
    }
   ],
   "source": [
    "# say we complete C\n",
    "txn = q.popleft()\n",
    "for nei in adj[txn]:\n",
    "    indegrees[nei] -= 1\n",
    "    if indegrees[nei] == 0:\n",
    "        q.append(nei)\n",
    "\n",
    "q"
   ]
  },
  {
   "cell_type": "code",
   "execution_count": 19,
   "id": "2a211bf3-264c-4767-a47c-a131f8f4448d",
   "metadata": {},
   "outputs": [
    {
     "data": {
      "text/plain": [
       "deque([])"
      ]
     },
     "execution_count": 19,
     "metadata": {},
     "output_type": "execute_result"
    }
   ],
   "source": [
    "# say we complete D\n",
    "txn = q.popleft()\n",
    "for nei in adj[txn]:\n",
    "    indegrees[nei] -= 1\n",
    "    if indegrees[nei] == 0:\n",
    "        q.append(nei)\n",
    "\n",
    "q"
   ]
  },
  {
   "cell_type": "code",
   "execution_count": null,
   "id": "92be05d9-8877-490e-b660-3b1066fcf880",
   "metadata": {},
   "outputs": [],
   "source": []
  }
 ],
 "metadata": {
  "kernelspec": {
   "display_name": "Python 3 (ipykernel)",
   "language": "python",
   "name": "python3"
  },
  "language_info": {
   "codemirror_mode": {
    "name": "ipython",
    "version": 3
   },
   "file_extension": ".py",
   "mimetype": "text/x-python",
   "name": "python",
   "nbconvert_exporter": "python",
   "pygments_lexer": "ipython3",
   "version": "3.11.6"
  }
 },
 "nbformat": 4,
 "nbformat_minor": 5
}
